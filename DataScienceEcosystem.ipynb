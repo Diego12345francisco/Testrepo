{
 "cells": [
  {
   "cell_type": "markdown",
   "id": "6a08b4f0-9055-48e1-a854-0353a7ef0a6e",
   "metadata": {},
   "source": [
    "# Data Science Tools and Ecosystem"
   ]
  },
  {
   "cell_type": "markdown",
   "id": "f9d4c8fa-86d6-4b5c-b7d7-29b12829fd4f",
   "metadata": {},
   "source": [
    "In this notebook, Data Science Tools and Ecosystem are summarized."
   ]
  },
  {
   "cell_type": "markdown",
   "id": "98a1d79c-2aec-45d8-a556-bb308518e3f7",
   "metadata": {},
   "source": [
    "**Objectives**:\n",
    "\n",
    "* List popular languages for Data Science\n",
    "* List popular libraries used by Data Scientists\n",
    "* List Data Science tools\n",
    "  "
   ]
  },
  {
   "cell_type": "markdown",
   "id": "36249180-edf9-4b5d-917d-5798efb7fc8b",
   "metadata": {},
   "source": [
    "Some of the popular languages that Data Scientists use are:\n",
    "1. R\n",
    "2. Python\n",
    "3. Julia"
   ]
  },
  {
   "cell_type": "markdown",
   "id": "ce8fb305-1b70-4c9b-bde0-5cc6b33715ba",
   "metadata": {},
   "source": [
    "Some of the commonly used libraries used by Data Scientists include:\n",
    "1. Pandas\n",
    "2. NumPy\n",
    "3. Matplotlib"
   ]
  },
  {
   "cell_type": "markdown",
   "id": "f96c4fb5-21ba-4292-bb3d-734745929478",
   "metadata": {},
   "source": [
    "| Data Science Tools       |\n",
    "|--------------------------|\n",
    "| Jupyter Notebook         |\n",
    "| RStudio                  |\n",
    "| Visual Studio Code (VSCode) |\n"
   ]
  },
  {
   "cell_type": "markdown",
   "id": "a00397ad-6d30-48ce-b396-04a98638945e",
   "metadata": {},
   "source": [
    "### Below are a few examples of evaluating arithmetic expressions in Python"
   ]
  },
  {
   "cell_type": "code",
   "execution_count": 7,
   "id": "68263323-7275-4943-ab39-9b6d9016c30d",
   "metadata": {},
   "outputs": [
    {
     "data": {
      "text/plain": [
       "17"
      ]
     },
     "execution_count": 7,
     "metadata": {},
     "output_type": "execute_result"
    }
   ],
   "source": [
    "#This a simple arithmetic expression to mutiply then add integers\n",
    "(3*4)+5"
   ]
  },
  {
   "cell_type": "code",
   "execution_count": 9,
   "id": "d5f87a09-7712-4a97-98ef-db12adc26627",
   "metadata": {},
   "outputs": [
    {
     "data": {
      "text/plain": [
       "3.3333333333333335"
      ]
     },
     "execution_count": 9,
     "metadata": {},
     "output_type": "execute_result"
    }
   ],
   "source": [
    "#This will convert 200 minutes to hours by diving by 60.\n",
    "\n",
    "200/60"
   ]
  },
  {
   "cell_type": "markdown",
   "id": "a506b533-498a-43a0-b308-05867cd3328a",
   "metadata": {},
   "source": [
    "## Author Diego Miranda"
   ]
  },
  {
   "cell_type": "code",
   "execution_count": null,
   "id": "3200271c-96f0-4169-9248-d1e33d7ae893",
   "metadata": {},
   "outputs": [],
   "source": []
  }
 ],
 "metadata": {
  "kernelspec": {
   "display_name": "Python [conda env:base] *",
   "language": "python",
   "name": "conda-base-py"
  },
  "language_info": {
   "codemirror_mode": {
    "name": "ipython",
    "version": 3
   },
   "file_extension": ".py",
   "mimetype": "text/x-python",
   "name": "python",
   "nbconvert_exporter": "python",
   "pygments_lexer": "ipython3",
   "version": "3.10.9"
  }
 },
 "nbformat": 4,
 "nbformat_minor": 5
}
